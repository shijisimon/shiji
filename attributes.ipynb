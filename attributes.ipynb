{
 "cells": [
  {
   "cell_type": "code",
   "execution_count": 3,
   "id": "b6ca2d41",
   "metadata": {},
   "outputs": [
    {
     "name": "stdout",
     "output_type": "stream",
     "text": [
      "Printing Array\n",
      "[[51899  7469]\n",
      " [21585 19910]\n",
      " [46426 21856]\n",
      " [55007 31511]]\n",
      "Printing numpy array Attributes\n",
      "1. Array Shape is:  (4, 2)\n",
      "2. Array dimensions are  2\n",
      "3. Length of each element of array in bytes is  2\n"
     ]
    }
   ],
   "source": [
    "import numpy as np\n",
    "FirstArray = np.empty([4,2], dtype = np.uint16) \n",
    "print(\"Printing Array\")\n",
    "print(FirstArray)\n",
    "print(\"Printing numpy array Attributes\")\n",
    "print(\"1. Array Shape is: \", FirstArray.shape)\n",
    "print(\"2. Array dimensions are \", FirstArray.ndim)\n",
    "print(\"3. Length of each element of array in bytes is \", FirstArray.itemsize)"
   ]
  },
  {
   "cell_type": "code",
   "execution_count": null,
   "id": "612f4b9e",
   "metadata": {},
   "outputs": [],
   "source": []
  }
 ],
 "metadata": {
  "kernelspec": {
   "display_name": "Python 3 (ipykernel)",
   "language": "python",
   "name": "python3"
  },
  "language_info": {
   "codemirror_mode": {
    "name": "ipython",
    "version": 3
   },
   "file_extension": ".py",
   "mimetype": "text/x-python",
   "name": "python",
   "nbconvert_exporter": "python",
   "pygments_lexer": "ipython3",
   "version": "3.9.12"
  }
 },
 "nbformat": 4,
 "nbformat_minor": 5
}
