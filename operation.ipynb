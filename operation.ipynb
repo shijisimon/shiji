{
 "cells": [
  {
   "cell_type": "code",
   "execution_count": 8,
   "id": "40dc69e9",
   "metadata": {},
   "outputs": [
    {
     "name": "stdout",
     "output_type": "stream",
     "text": [
      "First Matrix:\n",
      "[[11 12 13]\n",
      " [14 15 16]\n",
      " [17 18 19]]\n",
      "Second Matrix:\n",
      "[[15 16 17]\n",
      " [18 19 20]\n",
      " [21 22 23]]\n",
      "Multiplication of two matrics\n",
      "[[ 654  690  726]\n",
      " [ 816  861  906]\n",
      " [ 978 1032 1086]]\n",
      "Addition of two matrics\n",
      "[[26 28 30]\n",
      " [32 34 36]\n",
      " [38 40 42]]\n",
      "Subtraction of two matrics\n",
      "[[-4 -4 -4]\n",
      " [-4 -4 -4]\n",
      " [-4 -4 -4]]\n",
      "Division of two matrics\n",
      "[[0.73333333 0.75       0.76470588]\n",
      " [0.77777778 0.78947368 0.8       ]\n",
      " [0.80952381 0.81818182 0.82608696]]\n"
     ]
    }
   ],
   "source": [
    "import numpy as np\n",
    "x =  np.arange(11, 20).reshape(3,3)\n",
    "y =  np.arange(15,24).reshape(3,3)\n",
    "\n",
    "\n",
    "print(\"First Matrix:\")\n",
    "print(x)\n",
    "\n",
    "\n",
    "print(\"Second Matrix:\")\n",
    "print(y)\n",
    "\n",
    "\n",
    "mul = np.matmul(x,y)\n",
    "print(\"Multiplication of two matrics\")\n",
    "print(mul)\n",
    "\n",
    "\n",
    "add = np.add(x,y)\n",
    "print(\"Addition of two matrics\")\n",
    "print(add)\n",
    "\n",
    "sub = np.subtract(x,y)\n",
    "print(\"Subtraction of two matrics\")\n",
    "print(sub)\n",
    "\n",
    "div = np.divide(x,y)\n",
    "print(\"Division of two matrics\")\n",
    "print(div)\n",
    "\n",
    "\n"
   ]
  },
  {
   "cell_type": "code",
   "execution_count": null,
   "id": "a4121325",
   "metadata": {},
   "outputs": [],
   "source": []
  }
 ],
 "metadata": {
  "kernelspec": {
   "display_name": "Python 3 (ipykernel)",
   "language": "python",
   "name": "python3"
  },
  "language_info": {
   "codemirror_mode": {
    "name": "ipython",
    "version": 3
   },
   "file_extension": ".py",
   "mimetype": "text/x-python",
   "name": "python",
   "nbconvert_exporter": "python",
   "pygments_lexer": "ipython3",
   "version": "3.9.12"
  }
 },
 "nbformat": 4,
 "nbformat_minor": 5
}
