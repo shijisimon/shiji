{
 "cells": [
  {
   "cell_type": "code",
   "execution_count": 4,
   "id": "0bb932b3",
   "metadata": {},
   "outputs": [
    {
     "name": "stdout",
     "output_type": "stream",
     "text": [
      "Creating 5X2 array\n",
      "[[100 110]\n",
      " [120 130]\n",
      " [140 150]\n",
      " [160 170]\n",
      " [180 190]]\n"
     ]
    }
   ],
   "source": [
    "import numpy as np\n",
    "print(\"Creating 5X2 array\")\n",
    "sampleArray = np.arange(100, 200, 10)\n",
    "sampleArray = sampleArray.reshape(5,2)\n",
    "print (sampleArray)"
   ]
  },
  {
   "cell_type": "code",
   "execution_count": null,
   "id": "2b870070",
   "metadata": {},
   "outputs": [],
   "source": []
  }
 ],
 "metadata": {
  "kernelspec": {
   "display_name": "Python 3 (ipykernel)",
   "language": "python",
   "name": "python3"
  },
  "language_info": {
   "codemirror_mode": {
    "name": "ipython",
    "version": 3
   },
   "file_extension": ".py",
   "mimetype": "text/x-python",
   "name": "python",
   "nbconvert_exporter": "python",
   "pygments_lexer": "ipython3",
   "version": "3.9.12"
  }
 },
 "nbformat": 4,
 "nbformat_minor": 5
}
